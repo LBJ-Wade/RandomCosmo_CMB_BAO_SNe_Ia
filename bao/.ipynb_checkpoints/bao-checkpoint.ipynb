{
 "cells": [
  {
   "cell_type": "markdown",
   "metadata": {},
   "source": [
    "# Baryon Acoustic Oscillation Cosmology\n",
    "\n",
    "Here we want to produce a few plots for the BAO part in the thesis.\n",
    "\n",
    "The BAO feature in the Large Scale Structure (LSS) correlation function is the remnant of the acoustic waves propagating in the baryon photon plasma prior to recombination. After baryons and photons decouple we expect a characteristic length to be imprinted in the matter correlation function. This length is the sound horizon and it is given by\n",
    "$$\n",
    "r_s = \\int_{z_{\\rm drag}}^{\\infty} \\frac{c_s(z) dz}{H(z)}\n",
    "$$\n",
    "This scale is then stretched by the Hubble expansion and is measured as a feature in the LSS correlation space. The measurements are usually expressed in terms of the following quantities\n",
    "$$\n",
    "\\Delta z = H(z) r_s, \\\\\n",
    "\\Delta \\theta = \\frac{r_s}{D_A(z) (1+z)},\n",
    "$$\n",
    "\n",
    "Let's start by importing a few libraries"
   ]
  },
  {
   "cell_type": "code",
   "execution_count": 1,
   "metadata": {},
   "outputs": [],
   "source": [
    "import scipy.integrate as integrate\n",
    "import numpy as np\n",
    "import matplotlib.pyplot as plt\n",
    "import pylab as pil"
   ]
  },
  {
   "cell_type": "code",
   "execution_count": 2,
   "metadata": {},
   "outputs": [],
   "source": [
    "# this is the flat LCDM version of the Hubble parameter\n",
    "def Hubble2(z, omm, omg, omnu, omde, H0):\n",
    "    H2 = H0**2 * (omm*(1.0+z)**3 + omde + (omg+omnu)*(1.0+z)**4)\n",
    "    return H2"
   ]
  },
  {
   "cell_type": "code",
   "execution_count": 3,
   "metadata": {},
   "outputs": [],
   "source": [
    "def baryPhotRatio(z,omb, omr):\n",
    "    R = 3.0*omb/4.0/omr/(1.0+z)\n",
    "    return R"
   ]
  },
  {
   "cell_type": "code",
   "execution_count": 4,
   "metadata": {},
   "outputs": [],
   "source": [
    "def soundSpeed(z, omb, omg):\n",
    "    R = baryPhotRatio(z,omb, omg)\n",
    "    cs = 1.0/np.sqrt(3*(1.0+R))\n",
    "    return cs"
   ]
  },
  {
   "cell_type": "code",
   "execution_count": 5,
   "metadata": {},
   "outputs": [],
   "source": [
    "def sound_horizon_integrand(z, omm, omb, omg, omnu, omde, H0):\n",
    "    integrand = soundSpeed(z, omb, omg)/np.sqrt(Hubble2(z, omm, omg, omnu, omde, H0))\n",
    "    return integrand"
   ]
  },
  {
   "cell_type": "code",
   "execution_count": 6,
   "metadata": {},
   "outputs": [],
   "source": [
    "def soundHorizon(zdrag, omm, omb,  omg, omnu, omde, H0):\n",
    "    high_z = 1.0e8\n",
    "    integral = integrate.quad(sound_horizon_integrand, zdrag, high_z, args=(omm, omb, omg, omnu, omde, H0))[0]\n",
    "    rs = integral*3.0e5\n",
    "    \n",
    "    return rs"
   ]
  },
  {
   "cell_type": "markdown",
   "metadata": {},
   "source": [
    "define the angular-diameter distance\n",
    "\n",
    "$$\n",
    "D_A(z) = \\frac{\\chi(z)}{1+z}\n",
    "$$"
   ]
  },
  {
   "cell_type": "code",
   "execution_count": 7,
   "metadata": {},
   "outputs": [],
   "source": [
    "def comoving_integrand(z, omm, omg, omnu, omde, H0):\n",
    "    integrand = 1.0/np.sqrt(Hubble2(z, omm, omg, omnu, omde, H0))\n",
    "    return integrand"
   ]
  },
  {
   "cell_type": "code",
   "execution_count": 8,
   "metadata": {},
   "outputs": [],
   "source": [
    "def AngularDiameterDistance(z, omm, omg, omnu, omde, H0):\n",
    "    integral = integrate.quad(comoving_integrand, 0, z, args=(omm, omg, omnu, omde, H0))[0]\n",
    "    dA = integral*3.0e5 / (1.0+z)\n",
    "    return dA"
   ]
  },
  {
   "cell_type": "markdown",
   "metadata": {},
   "source": [
    "add the fitting function for zdrag from https://arxiv.org/pdf/astro-ph/9709112.pdf"
   ]
  },
  {
   "cell_type": "code",
   "execution_count": 25,
   "metadata": {},
   "outputs": [],
   "source": [
    "def zDrag(omm, H0):\n",
    "    h = H0/100\n",
    "    h2 = h*h\n",
    "    b1 = 0.313*(omm*h2)**(-0.419)*(1.0 + 0.607*(omm*h2)**(0.674))\n",
    "    b2 = 0.238*(omm*h2)**0.223\n",
    "    zdrag = 1291*(omm*h2)**0.251*(1.0+b1*(omb*h2)**b2)/(1.0+ 0.659*(omm*h2)**0.828)\n",
    "    return zdrag\n",
    "    "
   ]
  },
  {
   "cell_type": "code",
   "execution_count": 26,
   "metadata": {},
   "outputs": [],
   "source": [
    "#omm  = 0.3089\n",
    "#omde = 0.6911\n",
    "omm = 0.316\n",
    "H0 = 67.26\n",
    "# omega baryons from Planck 2015 results\n",
    "omb = 0.04868312694\n",
    "\n",
    "# photons and neutrinos\n",
    "omg = 1.4952e-13*(2.7255**4)/(3*(H0/3.0e5)**2)\n",
    "omnu = 3*(7.0/8.0)*(4.0/11)**(4.0/3)*omg\n",
    "omde = 1.0-omg-omnu-omm\n",
    "\n",
    "zdrag = zDrag(omm, H0)"
   ]
  },
  {
   "cell_type": "code",
   "execution_count": 27,
   "metadata": {},
   "outputs": [
    {
     "data": {
      "text/plain": [
       "1019.9417611112558"
      ]
     },
     "execution_count": 27,
     "metadata": {},
     "output_type": "execute_result"
    }
   ],
   "source": [
    "zdrag"
   ]
  },
  {
   "cell_type": "code",
   "execution_count": 28,
   "metadata": {},
   "outputs": [
    {
     "data": {
      "text/plain": [
       "5.471313027833493e-05"
      ]
     },
     "execution_count": 28,
     "metadata": {},
     "output_type": "execute_result"
    }
   ],
   "source": [
    "omg"
   ]
  },
  {
   "cell_type": "code",
   "execution_count": 29,
   "metadata": {},
   "outputs": [
    {
     "data": {
      "text/plain": [
       "0.6839080096129466"
      ]
     },
     "execution_count": 29,
     "metadata": {},
     "output_type": "execute_result"
    }
   ],
   "source": [
    "omde"
   ]
  },
  {
   "cell_type": "markdown",
   "metadata": {},
   "source": [
    "We have that the sound horizon is about 150 ```Mpc```"
   ]
  },
  {
   "cell_type": "code",
   "execution_count": 30,
   "metadata": {},
   "outputs": [
    {
     "data": {
      "text/plain": [
       "151.21150293085338"
      ]
     },
     "execution_count": 30,
     "metadata": {},
     "output_type": "execute_result"
    }
   ],
   "source": [
    "rs = soundHorizon(zdrag=zdrag, omm=omm, omb=omb, omg=omg, omnu=omnu, omde=omde, H0=H0)\n",
    "rs"
   ]
  },
  {
   "cell_type": "markdown",
   "metadata": {},
   "source": [
    "Let's normalize the sound horizon"
   ]
  },
  {
   "cell_type": "code",
   "execution_count": 31,
   "metadata": {},
   "outputs": [],
   "source": [
    "rs_norm = rs*.6766815537e-2"
   ]
  },
  {
   "cell_type": "markdown",
   "metadata": {},
   "source": [
    "let's do some plots!! For SDSS BOSS DR 12 there are two types of measurements: $D_M(z)/r_s$ and $H(z) r_s$.\n",
    "Let's create the theoretical predictions."
   ]
  },
  {
   "cell_type": "code",
   "execution_count": 98,
   "metadata": {},
   "outputs": [],
   "source": [
    "z = np.linspace(0,3,100)\n",
    "DM_over_rs = []\n",
    "DV_over_rs = []\n",
    "Hz_rs=[]\n",
    "for zthis in z:\n",
    "    Hz_rs.append(np.sqrt(Hubble2(zthis, omm, omg, omnu, omde, H0))*rs_norm)\n",
    "    DM_over_rs.append((1.0+zthis)*AngularDiameterDistance(zthis, omm, omg, omnu, omde, H0)/rs_norm)\n",
    "    DV_over_rs.append((((1.0+zthis)*AngularDiameterDistance(zthis, omm, omg, omnu, omde, H0))**2 *\n",
    "                      zthis /np.sqrt(Hubble2(zthis, omm, omg, omnu, omde, H0))*3.0e5)**(1.0/3.0))\n",
    "    "
   ]
  },
  {
   "cell_type": "markdown",
   "metadata": {},
   "source": [
    "So the BAO probes the Hubble parameter at different redshifts $H(z)$"
   ]
  },
  {
   "cell_type": "markdown",
   "metadata": {},
   "source": [
    "From the paper of DR 12 consesus get the data: https://arxiv.org/pdf/1607.03155.pdf table 7"
   ]
  },
  {
   "cell_type": "code",
   "execution_count": 99,
   "metadata": {},
   "outputs": [],
   "source": [
    "DR12z = np.array([0.38, 0.51, 0.61])\n",
    "HzrsDR12 = np.array([81.2087  , 90.9029,  98.9647])\n",
    "dHzrsDR12 = np.array([3.2 ,  3.2 , 3.4 ])\n",
    "DMorsDR12 = np.array([1512, 1975 , 2307 ])\n",
    "dDMorsDR12 = np.array([33, 41, 50])"
   ]
  },
  {
   "cell_type": "markdown",
   "metadata": {},
   "source": [
    "adding data from the Ly$\\alpha$ BAO: see this paper https://arxiv.org/abs/1311.1767\n"
   ]
  },
  {
   "cell_type": "code",
   "execution_count": 100,
   "metadata": {},
   "outputs": [],
   "source": [
    "lyaz = 2.36\n",
    "Hzrslya = 226\n",
    "dHzrslya = 8 \n",
    "DMorslya = 1590*(1.0+ 2.36) \n",
    "dDMorslya = 60*(1.0+ 2.36) \n"
   ]
  },
  {
   "cell_type": "code",
   "execution_count": 116,
   "metadata": {},
   "outputs": [],
   "source": [
    "DVorsDR12 = np.power([np.power(DMorsDR12,2)*DR12z*3.0e5/ HzrsDR12],(1./3.))\n",
    "dDVorsDR12 = np.power(DVorsDR12,-2)*(((2*DMorsDR12*DR12z*3.0e5/HzrsDR12))*dDMorsDR12 + np.power(DMorsDR12,2)*DR12z*3.0e5*np.power(HzrsDR12,-2)*dHzrsDR12)/3"
   ]
  },
  {
   "cell_type": "code",
   "execution_count": 131,
   "metadata": {},
   "outputs": [
    {
     "data": {
      "text/plain": [
       "(1, 3)"
      ]
     },
     "execution_count": 131,
     "metadata": {},
     "output_type": "execute_result"
    }
   ],
   "source": [
    "DVorsDR12.shape"
   ]
  },
  {
   "cell_type": "code",
   "execution_count": 118,
   "metadata": {},
   "outputs": [],
   "source": [
    "DVorslya =(DMorslya**2*lyaz*3.0e5/ Hzrslya)**(1./3.)\n",
    "dDVorslya = DVorslya**(-2)*((2*DMorslya*lyaz*3.0e5/Hzrslya)*dDMorslya + (DMorslya**2*lyaz*3.0e5/Hzrslya**(2))*dHzrslya)/3"
   ]
  },
  {
   "cell_type": "code",
   "execution_count": 119,
   "metadata": {},
   "outputs": [
    {
     "data": {
      "text/plain": [
       "4471.630132117991"
      ]
     },
     "execution_count": 119,
     "metadata": {},
     "output_type": "execute_result"
    }
   ],
   "source": [
    "DVorslya"
   ]
  },
  {
   "cell_type": "code",
   "execution_count": 120,
   "metadata": {},
   "outputs": [
    {
     "data": {
      "text/plain": [
       "165.25643723083155"
      ]
     },
     "execution_count": 120,
     "metadata": {},
     "output_type": "execute_result"
    }
   ],
   "source": [
    "dDVorslya"
   ]
  },
  {
   "cell_type": "markdown",
   "metadata": {},
   "source": [
    "Other measurements from quasars: see this paper https://arxiv.org/pdf/1705.06373.pdf\n"
   ]
  },
  {
   "cell_type": "code",
   "execution_count": 121,
   "metadata": {},
   "outputs": [],
   "source": [
    "zqua = 1.52\n",
    "DVorsqua=3843 \n",
    "dDVorsqua=147"
   ]
  },
  {
   "cell_type": "code",
   "execution_count": 142,
   "metadata": {},
   "outputs": [
    {
     "data": {
      "image/png": "[encoded data removed]",
      "text/plain": [
       "<Figure size 432x288 with 1 Axes>"
      ]
     },
     "metadata": {},
     "output_type": "display_data"
    }
   ],
   "source": [
    "plt.plot(z, Hz_rs, color = 'black', linewidth = 0.75, label = r'$\\Lambda$CDM')\n",
    "plt.errorbar(DR12z, HzrsDR12, yerr=dHzrsDR12, linestyle = '', marker = 'o', \n",
    "             color = 'darkseagreen', label = 'BOSS DR12 consensus', barsabove = True, capsize =3, ms = 5 )\n",
    "plt.errorbar(lyaz, Hzrslya, yerr=dHzrslya, linestyle = '', marker = 'o', \n",
    "             color = 'lightseagreen', label = r'BOSS DR11 Ly$\\alpha$', barsabove = True, capsize =3, ms = 5 )\n",
    "plt.xlabel(r'$z$')\n",
    "plt.legend(loc = 'upper left', fancybox = False)\n",
    "plt.ylabel(r'$H(z) r_s / r_s^{\\rm fid}$  [km/s/Mpc]')\n",
    "plt.xlim(0.3,2.5)\n",
    "plt.ylim(70,260)\n",
    "pil.savefig('./plots/BAOHz.pdf', bbox_inches='tight')\n",
    "plt.show()"
   ]
  },
  {
   "cell_type": "code",
   "execution_count": 143,
   "metadata": {},
   "outputs": [
    {
     "data": {
      "image/png": "[encoded data removed]",
      "text/plain": [
       "<Figure size 432x288 with 1 Axes>"
      ]
     },
     "metadata": {},
     "output_type": "display_data"
    }
   ],
   "source": [
    "plt.plot(z, DM_over_rs, color = 'black', linewidth = 0.75, label = r'$\\Lambda$CDM')\n",
    "plt.errorbar(DR12z, DMorsDR12, yerr=dDMorsDR12, linestyle = '', marker = 'o', \n",
    "             color = 'darkseagreen', label = 'BOSS DR12 consensus', barsabove = True, capsize =3, ms = 5 )\n",
    "plt.errorbar(lyaz, DMorslya, yerr=dDMorslya, linestyle = '', marker = 'o', \n",
    "             color = 'lightseagreen', label = r'BOSS DR11 Ly$\\alpha$', barsabove = True, capsize =3, ms = 5 )\n",
    "#plt.errorbar(zqua, DMorsqua, yerr=dDMorsqua, linestyle = '', marker = 'o', \n",
    "             #color = 'plum', label = r'quasar$', barsabove = True, capsize =3, ms = 5 )\n",
    "\n",
    "\n",
    "\n",
    "plt.xlabel(r'$z$')\n",
    "plt.legend(loc = 'upper left', fancybox = False)\n",
    "plt.ylabel(r'$D_M(z) r_s^{\\rm fid}/r_s$ [Mpc]')\n",
    "plt.xlim(0.3,2.5)\n",
    "plt.ylim(1200,6000)\n",
    "pil.savefig('./plots/BAODMors.pdf')\n",
    "plt.show()"
   ]
  },
  {
   "cell_type": "code",
   "execution_count": 144,
   "metadata": {},
   "outputs": [
    {
     "data": {
      "image/png": "[encoded data removed]",
      "text/plain": [
       "<Figure size 432x288 with 1 Axes>"
      ]
     },
     "metadata": {},
     "output_type": "display_data"
    }
   ],
   "source": [
    "plt.plot(z, DV_over_rs, color = 'black', linewidth = 0.75, label = r'$\\Lambda$CDM')\n",
    "plt.errorbar(DR12z, DVorsDR12[0,:], yerr=dDVorsDR12[0,:], linestyle = '', marker = 'o', \n",
    "             color = 'darkseagreen', label = 'BOSS DR12 consensus', barsabove = True, capsize =3, ms = 5,\n",
    "            capthick = 0.5)\n",
    "plt.errorbar(lyaz, DVorslya, yerr=dDVorslya, linestyle = '', marker = 'o', \n",
    "             color = 'lightseagreen', label = r'BOSS DR11 Ly$\\alpha$', barsabove = True,\n",
    "             capsize =3, ms = 5, capthick = 0.5 )\n",
    "plt.errorbar(zqua, DVorsqua, yerr=dDVorsqua, linestyle = '', marker = 'o', \n",
    "             color = 'plum', label = r'BOSS DR14 quasars', barsabove = True, capsize =3, ms = 5,\n",
    "            capthick = 0.5)\n",
    "\n",
    "\n",
    "\n",
    "plt.xlabel(r'$z$')\n",
    "plt.legend(loc = 'lower right', fancybox = False)\n",
    "plt.ylabel(r'$D_V(z) r_s^{\\rm fid}/r_s$ [Mpc]')\n",
    "plt.xlim(0.3,2.5)\n",
    "plt.ylim(1000,5000)\n",
    "pil.savefig('./plots/BAODVors.pdf')\n",
    "plt.show()"
   ]
  },
  {
   "cell_type": "code",
   "execution_count": null,
   "metadata": {},
   "outputs": [],
   "source": []
  },
  {
   "cell_type": "code",
   "execution_count": null,
   "metadata": {},
   "outputs": [],
   "source": []
  },
  {
   "cell_type": "code",
   "execution_count": null,
   "metadata": {},
   "outputs": [],
   "source": []
  }
 ],
 "metadata": {
  "kernelspec": {
   "display_name": "Python 3",
   "language": "python",
   "name": "python3"
  },
  "language_info": {
   "codemirror_mode": {
    "name": "ipython",
    "version": 3
   },
   "file_extension": ".py",
   "mimetype": "text/x-python",
   "name": "python",
   "nbconvert_exporter": "python",
   "pygments_lexer": "ipython3",
   "version": "3.6.8"
  }
 },
 "nbformat": 4,
 "nbformat_minor": 2
}
