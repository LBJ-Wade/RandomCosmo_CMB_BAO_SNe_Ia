{
 "cells": [
  {
   "cell_type": "markdown",
   "metadata": {},
   "source": [
    "# Supernovae Cosmology\n",
    "\n",
    "In order to make the supernovae standard candles, we use the Spectral Adaptive Lightcurve Template 2 (SALT2) method. Every SN Ia is assigned three parameters, one being $m_B^*$, the apparent magnitude at maximum, the other two describing the lightcurve shape and colour corrections, $x_1$ and $c$. The distance modulus is then taken to be:\n",
    "$$\n",
    "\\mu_{SN} = m_B^* - M + \\alpha x_1 - \\beta c,\n",
    "$$\n",
    "where $M$ is the absolute magnitude and $\\alpha$ and $\\beta$ are assumed to be constant for all SN Ia. The distance modulus is then compared to the cosmological model predictions, \n",
    "$$\n",
    "\\mu \\equiv  5 \\log_{10}\\left( \\frac{D_{L}}{10 \\, {\\rm pc}} \\right),\n",
    "$$\n",
    "where $d_L$ is the luminosity distance. \n",
    "\n",
    "Let's begin with the functions for the Hubble parameter.\n",
    "\n",
    "$$\n",
    "H^2(z) = H_0^2 \\left[ \\Omega_m (1+z)^3  + \\Omega_{\\Lambda} + \\Omega_{K} (1+z)^2 \\right]\n",
    "$$"
   ]
  },
  {
   "cell_type": "code",
   "execution_count": 175,
   "metadata": {},
   "outputs": [],
   "source": [
    "# this is the LCDM version of the Hubble parameter\n",
    "def Hubble2(z, omm, omde, omk, H0):\n",
    "    H2 = H0**2 * (omm*(1.0+z)**3 + omde + omk*(1+z)**2)\n",
    "    return H2"
   ]
  },
  {
   "cell_type": "code",
   "execution_count": 176,
   "metadata": {},
   "outputs": [],
   "source": [
    "import scipy.integrate as integrate\n",
    "import numpy as np"
   ]
  },
  {
   "cell_type": "code",
   "execution_count": 177,
   "metadata": {},
   "outputs": [],
   "source": [
    "import matplotlib.pyplot as plt\n",
    "import pylab as pil"
   ]
  },
  {
   "cell_type": "code",
   "execution_count": 289,
   "metadata": {},
   "outputs": [],
   "source": [
    "def comoving_integrand(z, omm, omde, omk, H0):\n",
    "    integrand = 1.0/np.sqrt(Hubble2(z, omm, omde, omk, H0))\n",
    "    return integrand"
   ]
  },
  {
   "cell_type": "markdown",
   "metadata": {},
   "source": [
    "Here we define the comoving distance to a source at redfshift $z$, given by\n",
    "$$\n",
    "\\chi(z) = \\int_0^z \\frac{dz^{\\prime}}{H(z)}\n",
    "$$"
   ]
  },
  {
   "cell_type": "code",
   "execution_count": 290,
   "metadata": {},
   "outputs": [],
   "source": [
    "#Now let's define the comoving distance\n",
    "def ComovingDistance(z, omm, omde, omk, H0):\n",
    "    integral = integrate.quad(comoving_integrand, 0, z, args=(omm, omde, omk, H0))[0]\n",
    "    if omk == 0:\n",
    "        chi = integral\n",
    "    elif omk < 0:\n",
    "        chi = np.sin(np.sqrt(-omk)*integral)/np.sqrt(-omk)\n",
    "    elif omk > 0:\n",
    "        chi = np.sinh(np.sqrt(omk)*integral)/np.sqrt(omk)\n",
    "    return chi\n",
    "        "
   ]
  },
  {
   "cell_type": "markdown",
   "metadata": {},
   "source": [
    "Below we define the function to compute the luminosity distance \n",
    "$$\n",
    "D_L(z) = (1+z) \\chi(z)\n",
    "$$"
   ]
  },
  {
   "cell_type": "code",
   "execution_count": 291,
   "metadata": {},
   "outputs": [],
   "source": [
    "def LuminosityDistance(z, omm, omde, omk, H0):\n",
    "    dL = (1.0 + z)* ComovingDistance(z, omm, omde, omk, H0)*3.0e5\n",
    "    return dL"
   ]
  },
  {
   "cell_type": "code",
   "execution_count": 292,
   "metadata": {},
   "outputs": [],
   "source": [
    "# let's create an array of redshift values, then we will \n",
    "z = np.linspace(0.001,2,1000)"
   ]
  },
  {
   "cell_type": "code",
   "execution_count": 293,
   "metadata": {},
   "outputs": [],
   "source": [
    "# cosmological model\n",
    "omm = 0.341\n",
    "omde = 1.0 - omm\n",
    "H0 = 70"
   ]
  },
  {
   "cell_type": "code",
   "execution_count": 294,
   "metadata": {},
   "outputs": [],
   "source": [
    "# compute the luminosity distances\n",
    "dL_LCDM = []\n",
    "dL_EdS = []\n",
    "for zthis in z:\n",
    "    dL_LCDM.append(LuminosityDistance(zthis, omm=omm, omde=omde, omk=0, H0=H0))\n",
    "    dL_EdS.append(LuminosityDistance(zthis, omm=1.0, omde=0, omk=0, H0=H0))"
   ]
  },
  {
   "cell_type": "code",
   "execution_count": 295,
   "metadata": {},
   "outputs": [
    {
     "data": {
      "image/png": "[encoded data removed]",
      "text/plain": [
       "<Figure size 432x288 with 1 Axes>"
      ]
     },
     "metadata": {},
     "output_type": "display_data"
    }
   ],
   "source": [
    "plt.plot(z, dL_LCDM, color = 'darkslateblue', label=r'$\\Lambda$CDM')\n",
    "plt.plot(z, dL_EdS, color = 'darksalmon', linestyle = '--', label=r'$\\Omega_m = 1$')\n",
    "plt.xlim(0, 1)\n",
    "#plt.ylim(0, 2)\n",
    "plt.xlabel(r'$z$')\n",
    "plt.ylabel(r'$d_L(z)$ [Mpc]')\n",
    "plt.legend(loc='upper left')\n",
    "pil.savefig('plots/luminosity_distance.pdf', bbox_inches='tight')\n",
    "plt.show()"
   ]
  },
  {
   "cell_type": "code",
   "execution_count": 296,
   "metadata": {},
   "outputs": [],
   "source": [
    "mu_LCDM = []\n",
    "for dl in dL_LCDM:\n",
    "    mu_LCDM.append(5*np.log10(dl*1.0e5))\n",
    "\n",
    "mu_EdS = []\n",
    "for dl in dL_EdS:\n",
    "    mu_EdS.append(5*np.log10(dl*1.0e5))"
   ]
  },
  {
   "cell_type": "code",
   "execution_count": 297,
   "metadata": {},
   "outputs": [
    {
     "data": {
      "image/png": "[encoded data removed]",
      "text/plain": [
       "<Figure size 432x288 with 1 Axes>"
      ]
     },
     "metadata": {},
     "output_type": "display_data"
    }
   ],
   "source": [
    "fig = plt.figure(figsize=(6,4))\n",
    "plt.semilogx(z, mu_LCDM, linewidth = 0.75, label = r'$\\Lambda$CDM')\n",
    "plt.semilogx(z, mu_EdS,  linewidth = 0.75, label = r'$\\Omega_m = 1$')\n",
    "plt.xlim(0.01,1)\n",
    "plt.ylim(33,46)\n",
    "plt.xlabel(r'$z$', fontsize = 10)\n",
    "plt.ylabel(r'$\\mu$',fontsize = 10)\n",
    "plt.legend(loc='upper left')\n",
    "plt.show()"
   ]
  },
  {
   "cell_type": "markdown",
   "metadata": {},
   "source": [
    "## JLA Supernovae catalogue\n",
    "\n",
    "Let's start playing around with the JLA dataset"
   ]
  },
  {
   "cell_type": "code",
   "execution_count": 206,
   "metadata": {},
   "outputs": [],
   "source": [
    "import pandas as pd"
   ]
  },
  {
   "cell_type": "code",
   "execution_count": 207,
   "metadata": {},
   "outputs": [
    {
     "data": {
      "text/html": [
       "<div>\n",
       "<style>\n",
       "    .dataframe thead tr:only-child th {\n",
       "        text-align: right;\n",
       "    }\n",
       "\n",
       "    .dataframe thead th {\n",
       "        text-align: left;\n",
       "    }\n",
       "\n",
       "    .dataframe tbody tr th {\n",
       "        vertical-align: top;\n",
       "    }\n",
       "</style>\n",
       "<table border=\"1\" class=\"dataframe\">\n",
       "  <thead>\n",
       "    <tr style=\"text-align: right;\">\n",
       "      <th></th>\n",
       "      <th>#name</th>\n",
       "      <th>zcmb</th>\n",
       "      <th>zhel</th>\n",
       "      <th>dz</th>\n",
       "      <th>mb</th>\n",
       "      <th>dmb</th>\n",
       "      <th>x1</th>\n",
       "      <th>dx1</th>\n",
       "      <th>color</th>\n",
       "      <th>dcolor</th>\n",
       "      <th>3rdvar</th>\n",
       "      <th>d3rdvar</th>\n",
       "      <th>cov_m_s</th>\n",
       "      <th>cov_m_c</th>\n",
       "      <th>cov_s_c</th>\n",
       "      <th>set</th>\n",
       "    </tr>\n",
       "  </thead>\n",
       "  <tbody>\n",
       "    <tr>\n",
       "      <th>0</th>\n",
       "      <td>03D1au</td>\n",
       "      <td>0.503084</td>\n",
       "      <td>0.5043</td>\n",
       "      <td>0.0</td>\n",
       "      <td>23.001698</td>\n",
       "      <td>0.088031</td>\n",
       "      <td>1.273191</td>\n",
       "      <td>0.150058</td>\n",
       "      <td>-0.012353</td>\n",
       "      <td>0.030011</td>\n",
       "      <td>9.517</td>\n",
       "      <td>0.1105</td>\n",
       "      <td>0.000790</td>\n",
       "      <td>0.000440</td>\n",
       "      <td>-0.000030</td>\n",
       "      <td>1</td>\n",
       "    </tr>\n",
       "    <tr>\n",
       "      <th>1</th>\n",
       "      <td>03D1aw</td>\n",
       "      <td>0.580724</td>\n",
       "      <td>0.5820</td>\n",
       "      <td>0.0</td>\n",
       "      <td>23.573937</td>\n",
       "      <td>0.090132</td>\n",
       "      <td>0.974346</td>\n",
       "      <td>0.273823</td>\n",
       "      <td>-0.025076</td>\n",
       "      <td>0.036691</td>\n",
       "      <td>9.169</td>\n",
       "      <td>0.0880</td>\n",
       "      <td>0.002823</td>\n",
       "      <td>0.000415</td>\n",
       "      <td>0.001574</td>\n",
       "      <td>1</td>\n",
       "    </tr>\n",
       "    <tr>\n",
       "      <th>2</th>\n",
       "      <td>03D1ax</td>\n",
       "      <td>0.494795</td>\n",
       "      <td>0.4960</td>\n",
       "      <td>0.0</td>\n",
       "      <td>22.960139</td>\n",
       "      <td>0.088110</td>\n",
       "      <td>-0.728837</td>\n",
       "      <td>0.102069</td>\n",
       "      <td>-0.099683</td>\n",
       "      <td>0.030305</td>\n",
       "      <td>11.580</td>\n",
       "      <td>0.1125</td>\n",
       "      <td>0.000542</td>\n",
       "      <td>0.000475</td>\n",
       "      <td>-0.000024</td>\n",
       "      <td>1</td>\n",
       "    </tr>\n",
       "    <tr>\n",
       "      <th>3</th>\n",
       "      <td>03D1bp</td>\n",
       "      <td>0.345928</td>\n",
       "      <td>0.3470</td>\n",
       "      <td>0.0</td>\n",
       "      <td>22.398137</td>\n",
       "      <td>0.087263</td>\n",
       "      <td>-1.155110</td>\n",
       "      <td>0.112834</td>\n",
       "      <td>-0.040581</td>\n",
       "      <td>0.026679</td>\n",
       "      <td>10.821</td>\n",
       "      <td>0.1235</td>\n",
       "      <td>0.001114</td>\n",
       "      <td>0.000616</td>\n",
       "      <td>0.000295</td>\n",
       "      <td>1</td>\n",
       "    </tr>\n",
       "    <tr>\n",
       "      <th>4</th>\n",
       "      <td>03D1co</td>\n",
       "      <td>0.677662</td>\n",
       "      <td>0.6790</td>\n",
       "      <td>0.0</td>\n",
       "      <td>24.078115</td>\n",
       "      <td>0.098356</td>\n",
       "      <td>0.618820</td>\n",
       "      <td>0.404295</td>\n",
       "      <td>-0.039380</td>\n",
       "      <td>0.067403</td>\n",
       "      <td>8.647</td>\n",
       "      <td>0.2840</td>\n",
       "      <td>0.011857</td>\n",
       "      <td>0.000780</td>\n",
       "      <td>0.005898</td>\n",
       "      <td>1</td>\n",
       "    </tr>\n",
       "  </tbody>\n",
       "</table>\n",
       "</div>"
      ],
      "text/plain": [
       "    #name      zcmb    zhel   dz         mb       dmb        x1       dx1  \\\n",
       "0  03D1au  0.503084  0.5043  0.0  23.001698  0.088031  1.273191  0.150058   \n",
       "1  03D1aw  0.580724  0.5820  0.0  23.573937  0.090132  0.974346  0.273823   \n",
       "2  03D1ax  0.494795  0.4960  0.0  22.960139  0.088110 -0.728837  0.102069   \n",
       "3  03D1bp  0.345928  0.3470  0.0  22.398137  0.087263 -1.155110  0.112834   \n",
       "4  03D1co  0.677662  0.6790  0.0  24.078115  0.098356  0.618820  0.404295   \n",
       "\n",
       "      color    dcolor  3rdvar  d3rdvar   cov_m_s   cov_m_c   cov_s_c  set  \n",
       "0 -0.012353  0.030011   9.517   0.1105  0.000790  0.000440 -0.000030    1  \n",
       "1 -0.025076  0.036691   9.169   0.0880  0.002823  0.000415  0.001574    1  \n",
       "2 -0.099683  0.030305  11.580   0.1125  0.000542  0.000475 -0.000024    1  \n",
       "3 -0.040581  0.026679  10.821   0.1235  0.001114  0.000616  0.000295    1  \n",
       "4 -0.039380  0.067403   8.647   0.2840  0.011857  0.000780  0.005898    1  "
      ]
     },
     "execution_count": 207,
     "metadata": {},
     "output_type": "execute_result"
    }
   ],
   "source": [
    "jla = pd.read_csv('data/jla_lcparams.txt', delim_whitespace=True, skipinitialspace=True)\n",
    "jla.head()"
   ]
  },
  {
   "cell_type": "code",
   "execution_count": 208,
   "metadata": {},
   "outputs": [
    {
     "data": {
      "text/html": [
       "<div>\n",
       "<style>\n",
       "    .dataframe thead tr:only-child th {\n",
       "        text-align: right;\n",
       "    }\n",
       "\n",
       "    .dataframe thead th {\n",
       "        text-align: left;\n",
       "    }\n",
       "\n",
       "    .dataframe tbody tr th {\n",
       "        vertical-align: top;\n",
       "    }\n",
       "</style>\n",
       "<table border=\"1\" class=\"dataframe\">\n",
       "  <thead>\n",
       "    <tr style=\"text-align: right;\">\n",
       "      <th></th>\n",
       "      <th>zcmb</th>\n",
       "      <th>zhel</th>\n",
       "      <th>dz</th>\n",
       "      <th>mb</th>\n",
       "      <th>dmb</th>\n",
       "      <th>x1</th>\n",
       "      <th>dx1</th>\n",
       "      <th>color</th>\n",
       "      <th>dcolor</th>\n",
       "      <th>3rdvar</th>\n",
       "      <th>d3rdvar</th>\n",
       "      <th>cov_m_s</th>\n",
       "      <th>cov_m_c</th>\n",
       "      <th>cov_s_c</th>\n",
       "      <th>set</th>\n",
       "    </tr>\n",
       "  </thead>\n",
       "  <tbody>\n",
       "    <tr>\n",
       "      <th>count</th>\n",
       "      <td>740.000000</td>\n",
       "      <td>740.000000</td>\n",
       "      <td>740.000000</td>\n",
       "      <td>740.000000</td>\n",
       "      <td>740.000000</td>\n",
       "      <td>740.000000</td>\n",
       "      <td>740.000000</td>\n",
       "      <td>740.000000</td>\n",
       "      <td>740.000000</td>\n",
       "      <td>740.000000</td>\n",
       "      <td>740.000000</td>\n",
       "      <td>740.000000</td>\n",
       "      <td>740.000000</td>\n",
       "      <td>740.000000</td>\n",
       "      <td>740.000000</td>\n",
       "    </tr>\n",
       "    <tr>\n",
       "      <th>mean</th>\n",
       "      <td>0.323804</td>\n",
       "      <td>0.324449</td>\n",
       "      <td>0.000026</td>\n",
       "      <td>20.904956</td>\n",
       "      <td>0.115913</td>\n",
       "      <td>0.036599</td>\n",
       "      <td>0.311099</td>\n",
       "      <td>-0.023862</td>\n",
       "      <td>0.038897</td>\n",
       "      <td>9.795341</td>\n",
       "      <td>0.827140</td>\n",
       "      <td>0.006210</td>\n",
       "      <td>0.000645</td>\n",
       "      <td>0.002665</td>\n",
       "      <td>1.860811</td>\n",
       "    </tr>\n",
       "    <tr>\n",
       "      <th>std</th>\n",
       "      <td>0.276869</td>\n",
       "      <td>0.276748</td>\n",
       "      <td>0.000288</td>\n",
       "      <td>2.655143</td>\n",
       "      <td>0.018761</td>\n",
       "      <td>0.988559</td>\n",
       "      <td>0.211398</td>\n",
       "      <td>0.084112</td>\n",
       "      <td>0.015706</td>\n",
       "      <td>1.395068</td>\n",
       "      <td>3.369119</td>\n",
       "      <td>0.010127</td>\n",
       "      <td>0.000947</td>\n",
       "      <td>0.005317</td>\n",
       "      <td>0.715821</td>\n",
       "    </tr>\n",
       "    <tr>\n",
       "      <th>min</th>\n",
       "      <td>0.010060</td>\n",
       "      <td>0.009370</td>\n",
       "      <td>-0.003437</td>\n",
       "      <td>14.148421</td>\n",
       "      <td>0.085341</td>\n",
       "      <td>-2.862959</td>\n",
       "      <td>0.017738</td>\n",
       "      <td>-0.250149</td>\n",
       "      <td>0.011882</td>\n",
       "      <td>5.000000</td>\n",
       "      <td>0.004500</td>\n",
       "      <td>-0.044995</td>\n",
       "      <td>-0.004558</td>\n",
       "      <td>-0.011397</td>\n",
       "      <td>1.000000</td>\n",
       "    </tr>\n",
       "    <tr>\n",
       "      <th>25%</th>\n",
       "      <td>0.124240</td>\n",
       "      <td>0.124418</td>\n",
       "      <td>0.000000</td>\n",
       "      <td>19.735791</td>\n",
       "      <td>0.101604</td>\n",
       "      <td>-0.650131</td>\n",
       "      <td>0.148408</td>\n",
       "      <td>-0.084578</td>\n",
       "      <td>0.026015</td>\n",
       "      <td>9.316750</td>\n",
       "      <td>0.106875</td>\n",
       "      <td>0.000646</td>\n",
       "      <td>0.000440</td>\n",
       "      <td>0.000061</td>\n",
       "      <td>1.000000</td>\n",
       "    </tr>\n",
       "    <tr>\n",
       "      <th>50%</th>\n",
       "      <td>0.229045</td>\n",
       "      <td>0.230515</td>\n",
       "      <td>0.000000</td>\n",
       "      <td>21.098947</td>\n",
       "      <td>0.114480</td>\n",
       "      <td>0.165391</td>\n",
       "      <td>0.267931</td>\n",
       "      <td>-0.030434</td>\n",
       "      <td>0.034759</td>\n",
       "      <td>10.193500</td>\n",
       "      <td>0.182750</td>\n",
       "      <td>0.003097</td>\n",
       "      <td>0.000630</td>\n",
       "      <td>0.000919</td>\n",
       "      <td>2.000000</td>\n",
       "    </tr>\n",
       "    <tr>\n",
       "      <th>75%</th>\n",
       "      <td>0.498216</td>\n",
       "      <td>0.499000</td>\n",
       "      <td>0.000000</td>\n",
       "      <td>23.043200</td>\n",
       "      <td>0.124173</td>\n",
       "      <td>0.775606</td>\n",
       "      <td>0.420354</td>\n",
       "      <td>0.030961</td>\n",
       "      <td>0.049647</td>\n",
       "      <td>10.710250</td>\n",
       "      <td>0.290500</td>\n",
       "      <td>0.008213</td>\n",
       "      <td>0.000971</td>\n",
       "      <td>0.003591</td>\n",
       "      <td>2.000000</td>\n",
       "    </tr>\n",
       "    <tr>\n",
       "      <th>max</th>\n",
       "      <td>1.299106</td>\n",
       "      <td>1.300000</td>\n",
       "      <td>0.001444</td>\n",
       "      <td>26.046776</td>\n",
       "      <td>0.174566</td>\n",
       "      <td>2.337170</td>\n",
       "      <td>1.641345</td>\n",
       "      <td>0.259538</td>\n",
       "      <td>0.106505</td>\n",
       "      <td>11.817000</td>\n",
       "      <td>54.194000</td>\n",
       "      <td>0.069409</td>\n",
       "      <td>0.008604</td>\n",
       "      <td>0.053578</td>\n",
       "      <td>4.000000</td>\n",
       "    </tr>\n",
       "  </tbody>\n",
       "</table>\n",
       "</div>"
      ],
      "text/plain": [
       "             zcmb        zhel          dz          mb         dmb          x1  \\\n",
       "count  740.000000  740.000000  740.000000  740.000000  740.000000  740.000000   \n",
       "mean     0.323804    0.324449    0.000026   20.904956    0.115913    0.036599   \n",
       "std      0.276869    0.276748    0.000288    2.655143    0.018761    0.988559   \n",
       "min      0.010060    0.009370   -0.003437   14.148421    0.085341   -2.862959   \n",
       "25%      0.124240    0.124418    0.000000   19.735791    0.101604   -0.650131   \n",
       "50%      0.229045    0.230515    0.000000   21.098947    0.114480    0.165391   \n",
       "75%      0.498216    0.499000    0.000000   23.043200    0.124173    0.775606   \n",
       "max      1.299106    1.300000    0.001444   26.046776    0.174566    2.337170   \n",
       "\n",
       "              dx1       color      dcolor      3rdvar     d3rdvar     cov_m_s  \\\n",
       "count  740.000000  740.000000  740.000000  740.000000  740.000000  740.000000   \n",
       "mean     0.311099   -0.023862    0.038897    9.795341    0.827140    0.006210   \n",
       "std      0.211398    0.084112    0.015706    1.395068    3.369119    0.010127   \n",
       "min      0.017738   -0.250149    0.011882    5.000000    0.004500   -0.044995   \n",
       "25%      0.148408   -0.084578    0.026015    9.316750    0.106875    0.000646   \n",
       "50%      0.267931   -0.030434    0.034759   10.193500    0.182750    0.003097   \n",
       "75%      0.420354    0.030961    0.049647   10.710250    0.290500    0.008213   \n",
       "max      1.641345    0.259538    0.106505   11.817000   54.194000    0.069409   \n",
       "\n",
       "          cov_m_c     cov_s_c         set  \n",
       "count  740.000000  740.000000  740.000000  \n",
       "mean     0.000645    0.002665    1.860811  \n",
       "std      0.000947    0.005317    0.715821  \n",
       "min     -0.004558   -0.011397    1.000000  \n",
       "25%      0.000440    0.000061    1.000000  \n",
       "50%      0.000630    0.000919    2.000000  \n",
       "75%      0.000971    0.003591    2.000000  \n",
       "max      0.008604    0.053578    4.000000  "
      ]
     },
     "execution_count": 208,
     "metadata": {},
     "output_type": "execute_result"
    }
   ],
   "source": [
    "jla.describe()"
   ]
  },
  {
   "cell_type": "code",
   "execution_count": 209,
   "metadata": {},
   "outputs": [
    {
     "data": {
      "text/plain": [
       "array([1, 2, 3, 4])"
      ]
     },
     "execution_count": 209,
     "metadata": {},
     "output_type": "execute_result"
    }
   ],
   "source": [
    "np.unique(jla['set'])"
   ]
  },
  {
   "cell_type": "markdown",
   "metadata": {},
   "source": [
    "What is the meaning of ```set```?\n",
    "1. SNLS\n",
    "2. SDSS\n",
    "3. Low-Z\n",
    "4. HST\n",
    "\n",
    "\n",
    "What are the parameters in the data?\n",
    "\n",
    "- $z_{\\rm CMB}$ : CMB frame redshift\n",
    "- $z_{\\rm hel}$ : Heliocentric frame redshift\n",
    "- $\\Delta z$    : variance in the redshift\n",
    "- $m_B$         : apparent K-corrected peak magnitude\n",
    "- $\\Delta m_B$  : variance in the apparent K-corrected peak magnitude\n",
    "- $x_1$         : the stretch parameter\n",
    "- $\\Delta x_1$  : variance in the stretch parameter\n",
    "- $c$           : colour parameter\n",
    "- $\\Delta c$    : variance in the color parameter\n",
    "\n",
    "\n",
    "First of all, let's get the best fit model from the paper: https://arxiv.org/pdf/1401.4064.pdf\n",
    "\n",
    "We have \n",
    "- $\\Omega_M = 0.295 \\pm 0.034$\n",
    "- $H_0 = 70 \\, km/s/{\\rm Mpc}$  \n",
    "- $\\alpha = 0.141 \\pm 0.006$\n",
    "- $\\beta = 3.101 \\pm 0.075$\n",
    "- $m_B^* = -19.05 \\pm 0.02$\n",
    "\n",
    "If we want to insert the uncertainties then we have to calculate them as in the Appendix B of this paper https://arxiv.org/abs/1010.4743"
   ]
  },
  {
   "cell_type": "code",
   "execution_count": 210,
   "metadata": {},
   "outputs": [],
   "source": [
    "jla_z_1 = jla.loc[jla['set']==1]['zcmb'].values\n",
    "jla_z_2 = jla.loc[jla['set']==2]['zcmb'].values\n",
    "jla_z_3 = jla.loc[jla['set']==3]['zcmb'].values\n",
    "jla_z_4 = jla.loc[jla['set']==4]['zcmb'].values"
   ]
  },
  {
   "cell_type": "code",
   "execution_count": 211,
   "metadata": {},
   "outputs": [],
   "source": [
    "M = -19.052\n",
    "alpha = 0.134\n",
    "beta = 3.059"
   ]
  },
  {
   "cell_type": "markdown",
   "metadata": {},
   "source": [
    "Here we give the best fit values of the distance modulus for each subdataset"
   ]
  },
  {
   "cell_type": "code",
   "execution_count": 198,
   "metadata": {},
   "outputs": [],
   "source": [
    "jla_mu_1 = jla.loc[jla['set']==1]['mb'] - M \\\n",
    "+ alpha*jla.loc[jla['set']==1]['x1'].values \\\n",
    "- beta*jla.loc[jla['set']==1]['color'].values\n",
    "\n",
    "jla_mu_2 = jla.loc[jla['set']==2]['mb'] - M \\\n",
    "+ alpha*jla.loc[jla['set']==2]['x1'].values \\\n",
    "- beta*jla.loc[jla['set']==2]['color'].values\n",
    "\n",
    "jla_mu_3 = jla.loc[jla['set']==3]['mb'] - M \\\n",
    "+ alpha*jla.loc[jla['set']==3]['x1'].values \\\n",
    "- beta*jla.loc[jla['set']==3]['color'].values\n",
    "\n",
    "jla_mu_4 = jla.loc[jla['set']==4]['mb'] - M \\\n",
    "+ alpha*jla.loc[jla['set']==4]['x1'].values \\\n",
    "- beta*jla.loc[jla['set']==4]['color'].values"
   ]
  },
  {
   "cell_type": "markdown",
   "metadata": {},
   "source": [
    "We now want to give the diagonal elements of the covariance matrix.\n",
    " \n",
    "$$\n",
    "D = \\sigma_m^2 + \\alpha^2 \\sigma_s^2 + \\beta^2  \\sigma_c^2 + 2 \\alpha \\sigma_{m-s} - 2 \\beta \\sigma_{m-c} - 2 \\alpha \\beta \\sigma_{s-c} + {\\rm intrinsicdisp} ^2 + (5/ \\log 10)^2 \\sigma_z^2 / z^2\n",
    "$$\n",
    "\n",
    "I didn't add th elast two terms!!!"
   ]
  },
  {
   "cell_type": "code",
   "execution_count": 248,
   "metadata": {},
   "outputs": [],
   "source": [
    "jla_dmu_1 = np.sqrt(jla.loc[jla['set']==1]['dmb'].values**2\n",
    "                    + alpha**2 * jla.loc[jla['set']==1]['dx1'].values**2\n",
    "                    + beta**2 * jla.loc[jla['set']==1]['dcolor'].values**2\n",
    "                    + 2*alpha* jla.loc[jla['set']==1]['cov_m_s'].values\n",
    "                    -2*beta* jla.loc[jla['set']==1]['cov_m_c'].values\n",
    "                    -2*alpha*beta*jla.loc[jla['set']==1]['cov_s_c'].values)"
   ]
  },
  {
   "cell_type": "code",
   "execution_count": 249,
   "metadata": {},
   "outputs": [],
   "source": [
    "jla_dmu_2 = np.sqrt(jla.loc[jla['set']==2]['dmb'].values**2\n",
    "                    + alpha**2 * jla.loc[jla['set']==2]['dx1'].values**2\n",
    "                    + beta**2 * jla.loc[jla['set']==2]['dcolor'].values**2\n",
    "                    + 2*alpha* jla.loc[jla['set']==2]['cov_m_s'].values\n",
    "                    -2*beta* jla.loc[jla['set']==2]['cov_m_c'].values\n",
    "                    -2*alpha*beta*jla.loc[jla['set']==2]['cov_s_c'].values)"
   ]
  },
  {
   "cell_type": "code",
   "execution_count": 250,
   "metadata": {},
   "outputs": [],
   "source": [
    "jla_dmu_3 = np.sqrt(jla.loc[jla['set']==3]['dmb'].values**2\n",
    "                    + alpha**2 * jla.loc[jla['set']==3]['dx1'].values**2\n",
    "                    + beta**2 * jla.loc[jla['set']==3]['dcolor'].values**2\n",
    "                    + 2*alpha* jla.loc[jla['set']==3]['cov_m_s'].values\n",
    "                    -2*beta* jla.loc[jla['set']==3]['cov_m_c'].values\n",
    "                    -2*alpha*beta*jla.loc[jla['set']==3]['cov_s_c'].values)"
   ]
  },
  {
   "cell_type": "code",
   "execution_count": 251,
   "metadata": {},
   "outputs": [],
   "source": [
    "jla_dmu_4 = np.sqrt(jla.loc[jla['set']==4]['dmb'].values**2\n",
    "                    + alpha**2 * jla.loc[jla['set']==4]['dx1'].values**2\n",
    "                    + beta**2 * jla.loc[jla['set']==4]['dcolor'].values**2\n",
    "                    + 2*alpha* jla.loc[jla['set']==4]['cov_m_s'].values\n",
    "                    -2*beta* jla.loc[jla['set']==4]['cov_m_c'].values\n",
    "                    -2*alpha*beta*jla.loc[jla['set']==4]['cov_s_c'].values)"
   ]
  },
  {
   "cell_type": "code",
   "execution_count": 271,
   "metadata": {},
   "outputs": [
    {
     "data": {
      "image/png": "[encoded data removed]",
      "text/plain": [
       "<Figure size 432x324 with 1 Axes>"
      ]
     },
     "metadata": {},
     "output_type": "display_data"
    }
   ],
   "source": [
    "fig = plt.figure(figsize=(6,4.5))\n",
    "plt.plot(z, mu_LCDM, color = 'black', linewidth = 0.75, label = r'$\\Lambda$CDM', zorder = 3)\n",
    "\n",
    "\n",
    "plt.errorbar(jla_z_3, jla_mu_3, color = 'plum',linestyle = '', linewidth = 0.65,marker = 'x', ms=4,\n",
    "             barsabove=True, yerr=jla_dmu_3, alpha = 0.3, label = 'low-z', capsize = 2, capthick = 0.65)\n",
    "plt.errorbar(jla_z_2, jla_mu_2, color = 'darkseagreen',linestyle = '',linewidth = 0.65, marker = 's', ms=4,\n",
    "             barsabove=True, yerr=jla_dmu_2, alpha = 0.3, label = 'SDSS', capsize = 2, capthick = 0.65)\n",
    "plt.errorbar(jla_z_1, jla_mu_1, color = 'lightseagreen',linestyle = '', linewidth = 0.65, marker = 'o', ms=4,\n",
    "             barsabove=True, yerr=jla_dmu_1, alpha = 0.5, label = 'SNLS', capsize = 2, capthick = 0.65)\n",
    "plt.errorbar(jla_z_4, jla_mu_4, color = 'plum',linestyle = '',linewidth = 0.65, marker = 'x', ms=4,\n",
    "             barsabove=True, yerr=jla_dmu_4, alpha = 0.75, label = 'HST', capsize = 2, capthick = 0.65)\n",
    "\n",
    "plt.xlim(0.01,1.3)\n",
    "plt.ylim(33,46)\n",
    "plt.xlabel(r'$z$', fontsize = 10)\n",
    "plt.ylabel(r'$\\mu$',fontsize = 10)\n",
    "plt.legend(loc='lower right', fancybox = False )\n",
    "pil.savefig('./plots/JLA_plot.pdf', bbox_inches= 'tight')\n",
    "plt.show()"
   ]
  },
  {
   "cell_type": "code",
   "execution_count": null,
   "metadata": {},
   "outputs": [],
   "source": []
  }
 ],
 "metadata": {
  "kernelspec": {
   "display_name": "Python 3",
   "language": "python",
   "name": "python3"
  },
  "language_info": {
   "codemirror_mode": {
    "name": "ipython",
    "version": 3
   },
   "file_extension": ".py",
   "mimetype": "text/x-python",
   "name": "python",
   "nbconvert_exporter": "python",
   "pygments_lexer": "ipython3",
   "version": "3.6.8"
  }
 },
 "nbformat": 4,
 "nbformat_minor": 2
}
